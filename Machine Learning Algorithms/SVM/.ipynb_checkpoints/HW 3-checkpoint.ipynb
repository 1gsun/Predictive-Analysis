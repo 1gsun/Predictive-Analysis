{
 "cells": [
  {
   "cell_type": "markdown",
   "metadata": {},
   "source": [
    "## 4. The Data"
   ]
  },
  {
   "cell_type": "code",
   "execution_count": 19,
   "metadata": {
    "collapsed": true
   },
   "outputs": [],
   "source": [
    "import os\n",
    "import numpy as np\n",
    "import pickle\n",
    "import random\n",
    "from collections import Counter\n",
    "from datetime import datetime\n",
    "import matplotlib.pyplot as plt\n",
    "%matplotlib inline\n",
    "import pandas as pd\n",
    "import math\n",
    "import copy"
   ]
  },
  {
   "cell_type": "code",
   "execution_count": 20,
   "metadata": {
    "collapsed": true
   },
   "outputs": [],
   "source": [
    "def folder_list(path,label):\n",
    "    '''\n",
    "    PARAMETER PATH IS THE PATH OF YOUR LOCAL FOLDER\n",
    "    '''\n",
    "    filelist = os.listdir(path)\n",
    "    review = []\n",
    "    for infile in filelist:\n",
    "        if infile.endswith(\".txt\"):\n",
    "            file = os.path.join(path,infile)\n",
    "            r = read_data(file)\n",
    "            r.append(label)\n",
    "            review.append(r)\n",
    "        else:\n",
    "            continue  \n",
    "    return review\n",
    "\n",
    "\n",
    "\n",
    "def read_data(file):\n",
    "    '''\n",
    "    Read each file into a list of strings. \n",
    "    Example:\n",
    "    [\"it's\", 'a', 'curious', 'thing', \"i've\", 'found', 'that', 'when', 'willis', 'is', 'not', 'called', 'on', \n",
    "    ...'to', 'carry', 'the', 'whole', 'movie', \"he's\", 'much', 'better', 'and', 'so', 'is', 'the', 'movie']\n",
    "    '''\n",
    "    f = open(file,encoding='utf-8')\n",
    "    lines = f.read().split(' ')\n",
    "    symbols = '${}()[].,:;+-*/&|<>=~\" '\n",
    "    table = str.maketrans(\"a\", \"a\", symbols)\n",
    "    words = map(lambda Element: Element.translate(table).strip(), lines)\n",
    "    words = list(filter(None, words))\n",
    "    return words\n",
    "\n",
    "###############################################\n",
    "######## YOUR CODE STARTS FROM HERE. ##########\n",
    "###############################################\n",
    "\n",
    "def shuffle_data():\n",
    "    '''\n",
    "    pos_path is where you save positive review data.\n",
    "    neg_path is where you save negative review data.\n",
    "    '''\n",
    "    pos_path = \"/Users/sunevan/Dropbox/Spring 2017/Machine Learning/3/Assignment/data/pos\"\n",
    "    neg_path = \"/Users/sunevan/Dropbox/Spring 2017/Machine Learning/3/Assignment/data/neg\"\n",
    "\n",
    "    pos_review = folder_list(pos_path,1)\n",
    "    neg_review = folder_list(neg_path,-1)\n",
    "\n",
    "    review = pos_review + neg_review\n",
    "    random.shuffle(review)\n",
    "    \n",
    "    return review "
   ]
  },
  {
   "cell_type": "code",
   "execution_count": 21,
   "metadata": {
    "collapsed": false
   },
   "outputs": [],
   "source": [
    "# choose the first 1500 for training data\n",
    "df = shuffle_data()\n",
    "train_df = df[:1500]\n",
    "test_df = df[1500:]"
   ]
  },
  {
   "cell_type": "code",
   "execution_count": 24,
   "metadata": {
    "collapsed": false
   },
   "outputs": [],
   "source": [
    "X_train = list()\n",
    "for i in range(len(train_df)):\n",
    "    X_train.append(train_df[i][:-1])\n",
    "\n",
    "    \n",
    "X_test = list()\n",
    "for i in range(len(test_df)):\n",
    "    X_test.append(test_df[i][:-1])\n",
    "    \n",
    "y_train = list()\n",
    "for i in range(len(train_df)):\n",
    "    y_train.append(train_df[i][-1])\n",
    "\n",
    "y_test = list()\n",
    "for i in range(len(test_df)):\n",
    "    y_test.append(test_df[i][-1])"
   ]
  },
  {
   "cell_type": "markdown",
   "metadata": {},
   "source": [
    "## 5. Sparse Representations"
   ]
  },
  {
   "cell_type": "markdown",
   "metadata": {},
   "source": [
    "### 5.1"
   ]
  },
  {
   "cell_type": "code",
   "execution_count": 5,
   "metadata": {
    "collapsed": true
   },
   "outputs": [],
   "source": [
    "def dotProduct(d1, d2):\n",
    "    \"\"\"\n",
    "    @param dict d1: a feature vector represented by a mapping from a feature (string) to a weight (float).\n",
    "    @param dict d2: same as d1\n",
    "    @return float: the dot product between d1 and d2\n",
    "    \"\"\"\n",
    "    if len(d1) < len(d2):\n",
    "        return dotProduct(d2, d1)\n",
    "    else:\n",
    "        return sum(d1.get(f, 0) * v for f, v in d2.items())"
   ]
  },
  {
   "cell_type": "code",
   "execution_count": 6,
   "metadata": {
    "collapsed": true
   },
   "outputs": [],
   "source": [
    "def increment(d1, scale, d2):\n",
    "    \"\"\"\n",
    "    Implements d1 += scale * d2 for sparse vectors.\n",
    "    @param dict d1: the feature vector which is mutated.\n",
    "    @param float scale\n",
    "    @param dict d2: a feature vector.\n",
    "\n",
    "    NOTE: This function does not return anything, but rather\n",
    "    increments d1 in place. We do this because it is much faster to\n",
    "    change elements of d1 in place than to build a new dictionary and\n",
    "    return it.\n",
    "    \"\"\"\n",
    "    for f, v in d2.items():\n",
    "        d1[f] = d1.get(f, 0) + v * scale\n"
   ]
  },
  {
   "cell_type": "code",
   "execution_count": 7,
   "metadata": {
    "collapsed": false
   },
   "outputs": [],
   "source": [
    "def sparse_count(dataset):\n",
    "    count_list = list()\n",
    "    for i in dataset:\n",
    "        count_list.append(dict(Counter(i)))\n",
    "    return count_list"
   ]
  },
  {
   "cell_type": "code",
   "execution_count": 8,
   "metadata": {
    "collapsed": true
   },
   "outputs": [],
   "source": [
    "X_train_sparse = sparse_count(X_train)\n",
    "X_test_sparse = sparse_count(X_test)"
   ]
  },
  {
   "cell_type": "markdown",
   "metadata": {},
   "source": [
    "### 5.2 Optional - Blank"
   ]
  },
  {
   "cell_type": "markdown",
   "metadata": {},
   "source": [
    "## 6. Support Vector Machine via Pegasos"
   ]
  },
  {
   "cell_type": "markdown",
   "metadata": {},
   "source": [
    "### 6.2"
   ]
  },
  {
   "cell_type": "code",
   "execution_count": 9,
   "metadata": {
    "collapsed": true
   },
   "outputs": [],
   "source": [
    "def pegasos(X,y,Lambda,max_round = 100):\n",
    "    t = 1 \n",
    "    round_count = 0\n",
    "    w = dict()\n",
    "    while round_count < max_round:\n",
    "        \n",
    "\n",
    "        index_list = list(range(len(X))) \n",
    "        #random.shuffle(index_list) # shuffle everytime (Comment out so that I can compare for 6.4)\n",
    "        round_count += 1 \n",
    "        for i in index_list:\n",
    "            t+= 1\n",
    "            nt = 1/(t*Lambda)\n",
    "            if y[i]*dotProduct(w,X[i]) < 1:\n",
    "                increment(w,  -1 * nt * Lambda, w)\n",
    "                increment(w,nt*y[i],X[i])\n",
    "            else:\n",
    "                increment(w,  -1 * nt * Lambda, w)\n",
    "    \n",
    "    return w \n",
    "        \n",
    "                \n",
    "                "
   ]
  },
  {
   "cell_type": "markdown",
   "metadata": {},
   "source": [
    "### 6.3"
   ]
  },
  {
   "cell_type": "code",
   "execution_count": 10,
   "metadata": {
    "collapsed": true
   },
   "outputs": [],
   "source": [
    "def pegasos_1(X,y,Lambda,max_round = 100):\n",
    "    t = 1\n",
    "    s = 1 \n",
    "    round_count = 0\n",
    "    W = dict()\n",
    "    \n",
    "    while round_count < max_round:\n",
    "        \n",
    "        index_list = list(range(len(X))) \n",
    "        #random.shuffle(index_list) # shuffle everytime (Comment out so that I can compare for 6.4)\n",
    "        round_count += 1 \n",
    "        for i in index_list:\n",
    "            t+= 1\n",
    "            nt = 1/(t*Lambda)\n",
    "            s = (1-nt * Lambda) * s \n",
    "            if y[i]*s*dotProduct(W,X[i]) < 1:\n",
    "                increment(W,(1/s)*nt*y[i],X[i])\n",
    "    \n",
    "    increment(W,(s-1),W) #rescale w= W+(s-1)W\n",
    "\n",
    "    return W"
   ]
  },
  {
   "cell_type": "markdown",
   "metadata": {},
   "source": [
    "### 6.4"
   ]
  },
  {
   "cell_type": "code",
   "execution_count": 11,
   "metadata": {
    "collapsed": false
   },
   "outputs": [
    {
     "name": "stdout",
     "output_type": "stream",
     "text": [
      "Naive Algroithm runs: 0:00:10.390846\n"
     ]
    }
   ],
   "source": [
    "startTime = datetime.now()\n",
    "p_1 = pegasos(X_train_sparse,y_train,0.1,1)\n",
    "print (\"Naive Algroithm runs:\",datetime.now() - startTime)"
   ]
  },
  {
   "cell_type": "code",
   "execution_count": 12,
   "metadata": {
    "collapsed": false
   },
   "outputs": [
    {
     "name": "stdout",
     "output_type": "stream",
     "text": [
      "Updated Algroithm runs: 0:00:00.381945\n"
     ]
    }
   ],
   "source": [
    "startTime = datetime.now()\n",
    "p_2 = pegasos_1(X_train_sparse,y_train,0.1,1)\n",
    "print (\"Updated Algroithm runs:\",datetime.now() - startTime)"
   ]
  },
  {
   "cell_type": "code",
   "execution_count": 13,
   "metadata": {
    "collapsed": false
   },
   "outputs": [
    {
     "data": {
      "text/plain": [
       "32.98298580426625"
      ]
     },
     "execution_count": 13,
     "metadata": {},
     "output_type": "execute_result"
    }
   ],
   "source": [
    "dotProduct(p_1,p_1)"
   ]
  },
  {
   "cell_type": "code",
   "execution_count": 14,
   "metadata": {
    "collapsed": false
   },
   "outputs": [
    {
     "data": {
      "text/plain": [
       "32.982985804269255"
      ]
     },
     "execution_count": 14,
     "metadata": {},
     "output_type": "execute_result"
    }
   ],
   "source": [
    "dotProduct(p_2,p_2)"
   ]
  },
  {
   "cell_type": "markdown",
   "metadata": {},
   "source": [
    "#### w is almost the same by running both algorithm. "
   ]
  },
  {
   "cell_type": "markdown",
   "metadata": {},
   "source": [
    "### 6.5"
   ]
  },
  {
   "cell_type": "code",
   "execution_count": 15,
   "metadata": {
    "collapsed": true
   },
   "outputs": [],
   "source": [
    "def predict_loss(w,X,y):\n",
    "    loss = 0 \n",
    "    for i in range(len(X)):\n",
    "        pred = dotProduct(w,X[i])\n",
    "        if pred * y[i] < 0:\n",
    "            loss += 1 \n",
    "    return loss / len(X)\n",
    "    "
   ]
  },
  {
   "cell_type": "markdown",
   "metadata": {},
   "source": [
    "### 6.6"
   ]
  },
  {
   "cell_type": "code",
   "execution_count": 16,
   "metadata": {
    "collapsed": true
   },
   "outputs": [],
   "source": [
    "# re-define pegasos by adding randomly shuffule data for mutilple round run \n",
    "def pegasos_2(X,y,Lambda,max_round = 50):\n",
    "    t = 1\n",
    "    s = 1 \n",
    "    round_count = 0\n",
    "    W = dict()\n",
    "    \n",
    "    while round_count < max_round:\n",
    "        \n",
    "        index_list = list(range(len(X))) \n",
    "        random.shuffle(index_list) # shuffle everytime \n",
    "        round_count += 1 \n",
    "        for i in index_list:\n",
    "            t+= 1\n",
    "            nt = 1/(t*Lambda)\n",
    "            s = (1-nt * Lambda) * s \n",
    "            if y[i]*s*dotProduct(W,X[i]) < 1:\n",
    "                increment(W,(1/s)*nt*y[i],X[i])\n",
    "    \n",
    "    increment(W,(s-1),W) #rescale w= W+(s-1)W\n",
    "\n",
    "    return W"
   ]
  },
  {
   "cell_type": "code",
   "execution_count": 446,
   "metadata": {
    "collapsed": false
   },
   "outputs": [],
   "source": [
    "w_list = list()\n",
    "Lambda_list = list()\n",
    "loss_list = list()\n",
    "\n",
    "for i in range(-10,4):\n",
    "    Lambda_list.append(10**i)\n",
    "    w_inuse = pegasos_2(X_train_sparse,y_train,10**i)\n",
    "    w_list.append(w_inuse)\n",
    "    loss = predict_loss(w_inuse,X_test_sparse,y_test)\n",
    "    loss_list.append(loss)"
   ]
  },
  {
   "cell_type": "code",
   "execution_count": 671,
   "metadata": {
    "collapsed": false
   },
   "outputs": [
    {
     "name": "stdout",
     "output_type": "stream",
     "text": [
      "Best Lambda to choose: 1e-07\n",
      "Minimum loss is: 0.198\n"
     ]
    }
   ],
   "source": [
    "best_Lambda = Lambda_list[np.argmin((np.array(loss_list)))]\n",
    "best_w = w_list[np.argmin((np.array(loss_list)))]\n",
    "print (\"Best Lambda to choose:\", best_Lambda)\n",
    "print (\"Minimum loss is:\",min(loss_list))"
   ]
  },
  {
   "cell_type": "code",
   "execution_count": 447,
   "metadata": {
    "collapsed": false
   },
   "outputs": [
    {
     "data": {
      "image/png": "[encoded data removed]",
      "text/plain": [
       "<matplotlib.figure.Figure at 0x1369d16d8>"
      ]
     },
     "metadata": {},
     "output_type": "display_data"
    }
   ],
   "source": [
    "fig = plt.figure(figsize = (8,4))\n",
    "plt.plot(Lambda_list,loss_list)\n",
    "plt.xscale('log')\n",
    "plt.title(\"Searching for Lambda for the validation loss\")\n",
    "plt.show()"
   ]
  },
  {
   "cell_type": "markdown",
   "metadata": {},
   "source": [
    "#### It seems that when the validation loss increases whenever Lambda is greater than 1. Zoom in Lambda between 1e-12 and 1."
   ]
  },
  {
   "cell_type": "code",
   "execution_count": 448,
   "metadata": {
    "collapsed": false
   },
   "outputs": [],
   "source": [
    "w_list_1 = list()\n",
    "Lambda_list_1 = list()\n",
    "loss_list_1 = list()\n",
    "\n",
    "for i in np.linspace(-12,1,num = 50):\n",
    "    Lambda_list_1.append(10**i)\n",
    "    w_inuse = pegasos_2(X_train_sparse,y_train,10**i)\n",
    "    w_list_1.append(w_inuse)\n",
    "    loss = predict_loss(w_inuse,X_test_sparse,y_test)\n",
    "    loss_list_1.append(loss)"
   ]
  },
  {
   "cell_type": "code",
   "execution_count": 449,
   "metadata": {
    "collapsed": false
   },
   "outputs": [
    {
     "data": {
      "image/png": "[encoded data removed]",
      "text/plain": [
       "<matplotlib.figure.Figure at 0x13765a550>"
      ]
     },
     "metadata": {},
     "output_type": "display_data"
    }
   ],
   "source": [
    "fig = plt.figure(figsize = (8,4))\n",
    "plt.plot(Lambda_list_1,loss_list_1)\n",
    "plt.xscale('log')\n",
    "plt.title(\"Searching for Lambda for the validation loss\")\n",
    "plt.show()"
   ]
  },
  {
   "cell_type": "code",
   "execution_count": 672,
   "metadata": {
    "collapsed": false
   },
   "outputs": [
    {
     "name": "stdout",
     "output_type": "stream",
     "text": [
      "Best Lambda to choose: 3.23745754282e-08\n",
      "Minimum loss is: 0.186\n"
     ]
    }
   ],
   "source": [
    "best_Lambda_1 = Lambda_list_1[np.argmin((np.array(loss_list_1)))]\n",
    "best_w_1 = w_list_1[np.argmin((np.array(loss_list_1)))]\n",
    "print (\"Best Lambda to choose:\", best_Lambda_1)\n",
    "print (\"Minimum loss is:\",min(loss_list_1))"
   ]
  },
  {
   "cell_type": "markdown",
   "metadata": {},
   "source": [
    "### 6.7"
   ]
  },
  {
   "cell_type": "code",
   "execution_count": 599,
   "metadata": {
    "collapsed": false
   },
   "outputs": [],
   "source": [
    "pred_score_list = list()\n",
    "pred_list = list()\n",
    "abs_pred_score_list = list()\n",
    "correction = list()\n",
    "for i in range(len(X_test_sparse)):\n",
    "    pred_score_list.append(dotProduct(best_w,X_test_sparse[i]))\n",
    "    abs_pred_score_list.append(abs(dotProduct(best_w,X_test_sparse[i])))\n",
    "    \n",
    "    if dotProduct(best_w,X_test_sparse[i]) > 0:\n",
    "        pred_list.append(1)\n",
    "    else:\n",
    "        pred_list.append(-1)\n",
    "    \n",
    "    if dotProduct(best_w,X_test_sparse[i])*y_test[i] > 0:\n",
    "        correction.append(1)\n",
    "    else:\n",
    "        correction.append(0)\n"
   ]
  },
  {
   "cell_type": "code",
   "execution_count": 600,
   "metadata": {
    "collapsed": false
   },
   "outputs": [
    {
     "name": "stderr",
     "output_type": "stream",
     "text": [
      "/Users/sunevan/anaconda/lib/python3.5/site-packages/ipykernel/__main__.py:2: FutureWarning: sort(columns=....) is deprecated, use sort_values(by=.....)\n",
      "  from ipykernel import kernelapp as app\n"
     ]
    }
   ],
   "source": [
    "df = pd.DataFrame({\"pred_score\":pred_score_list,\"prediction\":pred_list,\"y_test\":y_test,\"abs_pred_score\":abs_pred_score_list,\\\n",
    "                   \"correction\":correction})\n",
    "df = df.sort(columns=\"abs_pred_score\",ascending=False)\n",
    "\n",
    "correction_list=list()\n",
    "max_abs_pred_score = list()\n",
    "min_abs_pred_score = list()\n",
    "for i in range(5):\n",
    "    max_abs_pred_score.append(df.iloc[100*i:100*i+100].max()['abs_pred_score'])\n",
    "    min_abs_pred_score.append(df.iloc[100*i:100*i+100].min()['abs_pred_score'])\n",
    "    correction_list.append((df.iloc[100*i:100*i+100].sum()['correction'])/100) "
   ]
  },
  {
   "cell_type": "code",
   "execution_count": 562,
   "metadata": {
    "collapsed": false
   },
   "outputs": [
    {
     "data": {
      "text/html": [
       "<div>\n",
       "<table border=\"1\" class=\"dataframe\">\n",
       "  <thead>\n",
       "    <tr style=\"text-align: right;\">\n",
       "      <th></th>\n",
       "      <th>correction_pct</th>\n",
       "      <th>max_absoulte_pred_score</th>\n",
       "      <th>min_absoulte_pred_score</th>\n",
       "    </tr>\n",
       "  </thead>\n",
       "  <tbody>\n",
       "    <tr>\n",
       "      <th>0</th>\n",
       "      <td>0.99</td>\n",
       "      <td>4.612200e+06</td>\n",
       "      <td>1.437323e+06</td>\n",
       "    </tr>\n",
       "    <tr>\n",
       "      <th>1</th>\n",
       "      <td>0.93</td>\n",
       "      <td>1.415083e+06</td>\n",
       "      <td>8.982237e+05</td>\n",
       "    </tr>\n",
       "    <tr>\n",
       "      <th>2</th>\n",
       "      <td>0.80</td>\n",
       "      <td>8.928698e+05</td>\n",
       "      <td>5.045044e+05</td>\n",
       "    </tr>\n",
       "    <tr>\n",
       "      <th>3</th>\n",
       "      <td>0.71</td>\n",
       "      <td>5.028570e+05</td>\n",
       "      <td>2.524581e+05</td>\n",
       "    </tr>\n",
       "    <tr>\n",
       "      <th>4</th>\n",
       "      <td>0.64</td>\n",
       "      <td>2.520463e+05</td>\n",
       "      <td>3.294723e+03</td>\n",
       "    </tr>\n",
       "  </tbody>\n",
       "</table>\n",
       "</div>"
      ],
      "text/plain": [
       "   correction_pct  max_absoulte_pred_score  min_absoulte_pred_score\n",
       "0            0.99             4.612200e+06             1.437323e+06\n",
       "1            0.93             1.415083e+06             8.982237e+05\n",
       "2            0.80             8.928698e+05             5.045044e+05\n",
       "3            0.71             5.028570e+05             2.524581e+05\n",
       "4            0.64             2.520463e+05             3.294723e+03"
      ]
     },
     "execution_count": 562,
     "metadata": {},
     "output_type": "execute_result"
    }
   ],
   "source": [
    "dff = pd.DataFrame({\"max_absoulte_pred_score\":max_abs_pred_score,\"min_absoulte_pred_score\":min_abs_pred_score,\"correction_pct\":correction_list})\n",
    "\n",
    "dff"
   ]
  },
  {
   "cell_type": "markdown",
   "metadata": {},
   "source": [
    "#### So, I group the prediction score into 5 groups by the ranking of the absolute value. As seen in the table, for the prediction score between 4.6 e6 and 1.4 e6, there is only 1 out of 100 texts were predicted to be wrong. The correction %  gradually decreses when the score is lower. Also, I guess my prediction score is large due to a small Lambda I choose. \n"
   ]
  },
  {
   "cell_type": "markdown",
   "metadata": {},
   "source": [
    "### 6.8"
   ]
  },
  {
   "cell_type": "code",
   "execution_count": 726,
   "metadata": {
    "collapsed": false
   },
   "outputs": [
    {
     "name": "stdout",
     "output_type": "stream",
     "text": [
      "0 167716\n"
     ]
    }
   ],
   "source": [
    "count_1 = 0 \n",
    "total_count =0 \n",
    "for i in X_test_sparse:\n",
    "    for key in i:\n",
    "        w = best_w[key] if (key in best_w.keys()) else np.nan \n",
    "        x = i[key]\n",
    "        if abs(x*w) <=1.1 and abs(x*w) >= 0.9:\n",
    "            count_1+=1\n",
    "        total_count+=1 \n",
    "\n",
    "print (count_1, total_count)"
   ]
  },
  {
   "cell_type": "markdown",
   "metadata": {},
   "source": [
    "#### It is not surprising to see the result as my Lambda is set to low (which increases the prediction score). I think it is reasonable to skip update when it is equal to 1. However, if the optimal Lambda is close 0 or even larger, then it may not be a good idea. "
   ]
  },
  {
   "cell_type": "markdown",
   "metadata": {},
   "source": [
    "## 7.1"
   ]
  },
  {
   "cell_type": "markdown",
   "metadata": {},
   "source": [
    "By doing 6.7, i am going to use review indexed as 195 and index 337 for the analysis"
   ]
  },
  {
   "cell_type": "code",
   "execution_count": 729,
   "metadata": {
    "collapsed": false
   },
   "outputs": [],
   "source": [
    "def error_analysis(indexnum):\n",
    "    print (\"This is No.\",indexnum,\"in the test set\")\n",
    "    \n",
    "    if dotProduct(best_w,X_test_sparse[indexnum]) > 0:\n",
    "        predict_v = 1\n",
    "    else:\n",
    "        predict_v = -1 \n",
    "    \n",
    "    print (\"prediction score:\",predict_v)    \n",
    "    print (\"y label:\",y_test[indexnum])\n",
    "    \n",
    "    dict_xw = dict()\n",
    "    for key in X_test_sparse[indexnum]:\n",
    "        w = best_w[key] if (key in best_w.keys()) else np.nan \n",
    "        x = X_test_sparse[indexnum][key]\n",
    "        dict_xw[key] = {\"abs_xw\":abs(x*w),\"x\":x,\"w\":w,\"xw\":(x*w)}\n",
    "    dict_xw_df = pd.DataFrame.from_dict(dict_xw,'index')\n",
    "    print(dict_xw_df.sort(columns='abs_xw',ascending=False)[:50],\"\\n\")\n",
    "    print (' '.join(X_test[indexnum]))"
   ]
  },
  {
   "cell_type": "code",
   "execution_count": 730,
   "metadata": {
    "collapsed": false
   },
   "outputs": [
    {
     "name": "stdout",
     "output_type": "stream",
     "text": [
      "This is No. 337 in the test set\n",
      "prediction score: 1\n",
      "y label: -1\n",
      "                     xw             w    x         abs_xw\n",
      "and       532659.564541  11333.182224   47  532659.564541\n",
      "the       243196.757376   2133.304889  114  243196.757376\n",
      "a        -181864.241811  -4133.278223   44  181864.241811\n",
      "on       -143731.416915 -13066.492447   11  143731.416915\n",
      "is        118798.416022   3599.952001   33  118798.416022\n",
      "most      116265.116465  14533.139558    8  116265.116465\n",
      "at       -107198.570686  -8933.214224   12  107198.570686\n",
      "by        101998.640018   6799.909335   15  101998.640018\n",
      "to        -86398.848016  -2399.968000   36   86398.848016\n",
      "so        -81198.917348 -11599.845335    7   81198.917348\n",
      "two       -80798.922682 -13466.487114    6   80798.922682\n",
      "have      -77598.965347 -25866.321782    3   77598.965347\n",
      "minutes   -73999.013346 -14799.802669    5   73999.013346\n",
      "this      -65599.125345 -10933.187558    6   65599.125345\n",
      "then      -64532.472900 -16133.118225    4   64532.472900\n",
      "you        64399.141345  21466.380448    3   64399.141345\n",
      "well       61599.178678  20533.059559    3   61599.178678\n",
      "also       57999.226677  11599.845335    5   57999.226677\n",
      "in        -57599.232010  -2133.304889   27   57599.232010\n",
      "lynch     -54265.943121  -4933.267556   11   54265.943121\n",
      "what       52799.296010   8799.882668    6   52799.296010\n",
      "several    52799.296010  13199.824002    4   52799.296010\n",
      "own        51199.317342   8533.219557    6   51199.317342\n",
      "its        49599.338676   8266.556446    6   49599.338676\n",
      "original  -48666.017786  -9733.203557    5   48666.017786\n",
      "enough    -45866.055120 -11466.513780    4   45866.055120\n",
      "for        43199.424008   3599.952001   12   43199.424008\n",
      "great      42666.097785  21333.048893    2   42666.097785\n",
      "any       -40532.792896 -20266.396448    2   40532.792896\n",
      "may        40532.792896  10133.198224    4   40532.792896\n",
      "least     -40399.461341 -13466.487114    3   40399.461341\n",
      "director  -40399.461341 -13466.487114    3   40399.461341\n",
      "times      39199.477340  13066.492447    3   39199.477340\n",
      "would     -38399.488007  -9599.872002    4   38399.488007\n",
      "should    -35999.520007 -17999.760003    2   35999.520007\n",
      "way        35199.530673  11733.176891    3   35199.530673\n",
      "work      -32399.568006 -10799.856002    3   32399.568006\n",
      "those      31999.573339  10666.524446    3   31999.573339\n",
      "paul      -31599.578672 -10533.192891    3   31599.578672\n",
      "both       30666.257783  15333.128892    2   30666.257783\n",
      "only      -30666.257783 -30666.257783    1   30666.257783\n",
      "better    -29599.605339 -14799.802669    2   29599.605339\n",
      "he         29199.610672   9733.203557    3   29199.610672\n",
      "were       28532.952894  14266.476447    2   28532.952894\n",
      "over       27599.632005   9199.877335    3   27599.632005\n",
      "why       -27466.300449 -27466.300449    1   27466.300449\n",
      "one        27332.968894   5466.593779    5   27332.968894\n",
      "very       26932.974227  13466.487114    2   26932.974227\n",
      "book      -26666.311116  -6666.577779    4   26666.311116\n",
      "tv        -26399.648005 -13199.824002    2   26399.648005 \n",
      "\n",
      "the following review encompasses two versions of dune dune the theatrical version 1984 runtime 137 minutes capsule review cut down to just over two hours by nervous studio executives the theatrical version of dune is a spectacular mess and may be incomprehensible to those unfamiliar with the book the film's visual splendour mystical beauty and impressive action scenes only partly compensate for gaping holes in the narrative dune the extended version 1988 runtime 189 minutes capsule review a bit of a throwtogether assembled by mca tv special projects for cable television it was disowned by director david lynch but it's considerably closer to his original vision by virtue of its improved characterisation and clearer storyline quality dubs of this version from the outofprint japanese laserdisc release are available from various dealers on the world wide web the review released in 1984 and made on a then mammoth budget of 40 million the film of frank herbert's cult novel dune was eagerly awaited by scifi fans director david lynch blue velvet eraserhead twin peaks was working on his biggest production to date a mammoth undertaking filmed under trying conditions on location in mexico the screenplay was lynch's own chosen after the script submitted by original author herbert was rejected dune is set in a universe ruled by powerful families overseen by a successive line of emperors the key to cosmic power is the planet arrakis dune a windswept desert planet that's home to giant sandworms and the precious spice melange the spice is the most valuable commodity in the universe it extends the life and expands the consciousness of those who consume it most importantly it allows the navigators of the spacing guild once human but now hideously mutated to fold space and navigate their spacecraft across mammoth distances instantaneously enabling interstellar commerce and trade to flourish lynch's film by necessity excises parts of the book while retaining the story's two main strands one is the longstanding rivalry between two families houses atreides and house harkonnen and their battle for lucrative mining rights on arrakis the second strand is the emergence of young paul atreides as the reluctant messiah longawaited by the natives of arrakis the fremen the deeply religious fremen want control over their homeworld and young paul may be the fulfilment of their prophecy that a man would come from the outer worlds and lead them to freedom unfortunately this epic story unfolds in a confusing and haphazard manner in the theatrical cut of the film which runs 30 to 60 minutes shorter than what lynch originally intended the thinking among universal's ohsowise money men was that films over two hours in duration were not popular with audiences at the time and would not do well at the box office with lynch's initial cut running at closer to three or more hours the studio demanded that further cuts be made what a great idea ! why not trim down an already complex film so as to make it almost incomprehensible ? the most glaring consequence of this oneeyed stupidity is a hopelessly jumpy narrative leaving us with badly underdeveloped characters thus their personalities are vague their motivations unclear and in the case of paul's father duke leto their demise rather meaningless the end result is a distinct chill we can't warm to most of the cast and we don't care much for them and it hardly helps that the voiceover narration is sparse and that the duneesque language and terminology sounds like so much gobbledegook to those unfamiliar with the book dune is also a very serous film the constant selftalk by various characters makes it so serious and selfabsorbed at times that you may find it hard not to wince with embarrassment the overall impression is a world full of people so intense that no one is allowed a joke lest the universe come crashing down around them humour or at least a gentle kind of humour as distinct from the harkonnen's mad sadistic kind is hard to find you may balk at the comparison but as a writer lynch could well have done with some lessons from george lucus' star wars trilogy the theatrical version is still some way from being a complete disaster however it still possesses enough of lynch's stylistic quirks and enough visual invention to sustain the interest of viewers with a taste for imaginative scifi special effects whiz carlo rambaldi's giant sandworms are an awesome sight both the production design anthony masters and costume design bob ringwood are striking and original and the magnificent score by toto and brian eno is one of the most underrated soundtracks of the last twenty years with these elements in place and the benefit of freddie francis' lush cinematography the film is at least a feast for the senses see it in the widescreen format if you can and despite all the cuts several cast members still make a strong impression most notably kenneth mcmillan as the supremely nasty baron vladimir harkonnen sian phillips also registers strongly as the reverend mother gaius helen mohiam leader of the bene gesserit religious order who's secret aim is to manipulate paul's destiny for its own shadowy ends as paul atreides the young kyle maclachlan starts off somewhat shakily but as his character grows in strength so does his performance and he emerges as a credible leader of the fremen crusade the conclusion ? any assessment of this film must take into account that frank herbert's original novel is a complex piece of work and presents a tough challenge for any filmmaker david lynch took a brave stab at it and partly due to forces beyond his control ended up with an officially released version that fails in several key respects dune certainly confused and frustrated a lot of people on its release many chose to stay away altogether as the film's disastrous box office showing attests the extended version however is a rather different beast in 1984 lynch stated his intention to release his own special edition director's cut of the film on home video a clear indication of his dissatisfaction with the version that ended up in the theatres but alas he failed to do so choosing to move on to other projects in a way then it is partly lynch's own fault that what appeared instead was an unauthorised extended version put together in 1988 by mca tv special projects for airing on cable networks in the usa stung into action lynch successfully petitioned the director's guild to take his name off the credits and replace it with allen smithee the standard pseudonym for directors who wish to disown their own work he also had the screenwriting credit changed to the anonymous judas booth certainly looking at the results of mca's handiwork there's at least half a dozen instances that for sheer technical sloppiness are good enough reasons for the director to object but these gripes must be considered in light of the improvements that the extended cut of dune offers in several crucial areas most of the changes involve the restoration or extension of cut scenes and the addition of extra narration both of which fill many holes in the original version's storyline paul's relationship with his father and associates is more intimate with moments of humour and warmth lacking previously the political skulduggery involving the emperor the spacing guild the bene gesserits and the two warring houses is far better explained paul's initiation into the fremen way of life on arrakis is also fleshed out considerably and as further background a new prologue has been added featuring narration and painted stills to give us a brief history of the dune universe as a piece of storytelling then mca tv's version of dune is clearly superior as a piece of editing however it is at times surprisingly inept the use of painted stills in the new prologue works well enough but their occasional appearance once the action begins is inappropriate there's some sloppy cutting too and in a few instances shots even appear out of order and the use of repeated footage to fabricate certain scenes eg ships coming and going soldiers coming and going is at times clearly outofcontext this is the kind of thing to which lynch objected and rightly so it should also be noted that several questionable scenes and shots from the theatrical version were deleted to satisfy the censorship demands of u s television but the most notable omission is a gratuitous piece of nonsense from lynch that wasn't even in herbert's book the scene features baron harkonnen killing a beautiful young man in front of his slobbering henchmen by pulling out his heart plug its a surreal and disturbing episode that's very lynchesque but adds nothing to what we already know the baron is a nasty piece of work despite its own peculiar flaws then the extended version of dune is a generally superior film all up it contains 35 minutes of restored footage and approximately another 15 minutes of either altered fabricated or newly created sequences unless the idiosyncratic lynch has a sudden change of heart the alan smithee version remains the closest we'll get to what the movie should have been on repeated viewings one suspects it is closer than what lynch would be prepared to admit still as one of this century's great sciencefiction novels some fans and perhaps the late herbert himself would argue that dune deserved a better fate in its transfer to the screen with rumours circulating of a new six hour miniseries planned by production company new amsterdam entertainment in 1998 it is unlikely that we have heard the last of the dune saga\n"
     ]
    },
    {
     "name": "stderr",
     "output_type": "stream",
     "text": [
      "/Users/sunevan/anaconda/lib/python3.5/site-packages/ipykernel/__main__.py:18: FutureWarning: sort(columns=....) is deprecated, use sort_values(by=.....)\n"
     ]
    }
   ],
   "source": [
    "error_analysis(337)"
   ]
  },
  {
   "cell_type": "markdown",
   "metadata": {},
   "source": [
    "#### Analysis: This is a negative review and is predicted as a positive one. Even though \"the\" is relatively light weighted, a crazy 114 times apperance still helped a heavy positive weight in this case. In which, I guess I can try to remove stop words like \"the\", \"and\". Also, in this praticular case, the author used \"most\" for 8 times. However, it is used as a superlative in netural tone. "
   ]
  },
  {
   "cell_type": "code",
   "execution_count": 731,
   "metadata": {
    "collapsed": false
   },
   "outputs": [
    {
     "name": "stdout",
     "output_type": "stream",
     "text": [
      "This is No. 195 in the test set\n",
      "prediction score: -1\n",
      "y label: 1\n",
      "                       xw             w   x         abs_xw\n",
      "and         271996.373383  11333.182224  24  271996.373383\n",
      "this       -163997.813364 -10933.187558  15  163997.813364\n",
      "you         107331.902242  21466.380448   5  107331.902242\n",
      "on         -104531.939574 -13066.492447   8  104531.939574\n",
      "the         100265.329795   2133.304889  47  100265.329795\n",
      "a           -82665.564460  -4133.278223  20   82665.564460\n",
      "two         -53865.948454 -13466.487114   4   53865.948454\n",
      "plot        -51999.306676 -25999.653338   2   51999.306676\n",
      "have        -51732.643565 -25866.321782   2   51732.643565\n",
      "movie       -45732.723564  -6533.246223   7   45732.723564\n",
      "to          -40799.456008  -2399.968000  17   40799.456008\n",
      "if          -40266.129785 -20133.064893   2   40266.129785\n",
      "mind         32399.568006  10799.856002   3   32399.568006\n",
      "then        -32266.236450 -16133.118225   2   32266.236450\n",
      "picture      31999.573339  10666.524446   3   31999.573339\n",
      "other        30666.257783  15333.128892   2   30666.257783\n",
      "now          29866.268450  14933.134225   2   29866.268450\n",
      "in          -29866.268450  -2133.304889  14   29866.268450\n",
      "would       -28799.616005  -9599.872002   3   28799.616005\n",
      "your         27599.632005   9199.877335   3   27599.632005\n",
      "director    -26932.974227 -13466.487114   2   26932.974227\n",
      "or          -26132.984894  -6533.246223   4   26132.984894\n",
      "much        -25599.658671  -6399.914668   4   25599.658671\n",
      "during       25599.658671   6399.914668   4   25599.658671\n",
      "for          25199.664005   3599.952001   7   25199.664005\n",
      "7            25066.332449   6266.583112   4   25066.332449\n",
      "than         24799.669338   8266.556446   3   24799.669338\n",
      "could       -24799.669338 -12399.834669   2   24799.669338\n",
      "apparently  -24399.674671  -8133.224890   3   24399.674671\n",
      "depp        -24266.343116  -3466.620445   7   24266.343116\n",
      "also         23199.690671  11599.845335   2   23199.690671\n",
      "so          -23199.690671 -11599.845335   2   23199.690671\n",
      "did         -22799.696004  -7599.898668   3   22799.696004\n",
      "is           21599.712004   3599.952001   6   21599.712004\n",
      "those        21333.048893  10666.524446   2   21333.048893\n",
      "supposed    -19866.401781 -19866.401781   1   19866.401781\n",
      "he           19466.407115   9733.203557   2   19466.407115\n",
      "over         18399.754670   9199.877335   2   18399.754670\n",
      "should      -17999.760003 -17999.760003   1   17999.760003\n",
      "enjoy        17599.765337   8799.882668   2   17599.765337\n",
      "be          -17599.765336  -2933.294223   6   17599.765336\n",
      "too         -17199.770670 -17199.770670   1   17199.770670\n",
      "own          17066.439114   8533.219557   2   17066.439114\n",
      "one          16399.781336   5466.593779   3   16399.781336\n",
      "roles       -15999.786669  -7999.893335   2   15999.786669\n",
      "without      15999.786669   7999.893335   2   15999.786669\n",
      "will         15866.455114  15866.455114   1   15866.455114\n",
      "being        15733.123558   7866.561779   2   15733.123558\n",
      "role         15599.792003   5199.930668   3   15599.792003\n",
      "s           -15466.460447  -7733.230224   2   15466.460447 \n",
      "\n",
      "film adaptation of hunter s thompson's infamous semiautobiographical hallucinogenfueled book of the same title director terry gilliam of twelve monkeys 810 and brazil 710 fame took over the helm of this project after fellow director alex cox sid and nancy 7 510 apparently alienated everyone associated with the movie according to gilliam plot writer thompson depp heads down to las vegas with his attorney dr gonzo del toro to cover a motorcycle race during their trip they systematically consume two bags of grass seventyfive pellets of mescaline five sheets of high powered blotter acid a salt shaker halffull of cocaine a whole galaxy of multicolored uppers downers screamers laughers a quart of tequila a quart of rum a case of beer a pint of raw ether and two dozen amyls the movie presents us with the results of that heavy drug use critique i have given this movie two separate ratings because i believe that the enjoyment of this psychedelic picture is highly correlated with the amount of drugs or alcohol that would be floating around in the viewer's own mind whilst inhaling this cinematic vision of excess if you are prepared to get high or intoxicated before watching this film i would say that this is one picture that you will thoroughly enjoy on a multitude of colorful levels if on the other hand you decide to stray from the addition of nefarious elements to your system i could not imagine you truly appreciating much of this druginduced picture's entire ride 5 510 for all those sober dogs note i have not read thompson's book having said that joblo did engage in an alcoholbased consumatory session before and during the viewing of this film so his critique of the film should be appreciated on that level this movie relies heavily on style and peculiar humour rather than substance or plot it moves admirably from one scene to the next without much basis of their being while presenting us with the two days in the life of writer hunter s thompson during which he seemed to consume more drugs and alcohol than anyone could ever imagine it was 1971 and the times were apparently a' changing in the states johnny depp chews into his role like an overgrown child sucking on a chocolate lollipop during the filming depp apparently become fast friends with reallife writer thompson and was known to wander off the set from time to time for the sake of checking out the newest barmaid at the local watering hole i thought he did seem to exaggerate his walk a little bit too much but then again this movie is supposed to be a wild exaggeration of everything and anything so who am i to talk the one thing that did blow my mind was the actual physical transformation endured by actor benicio del toro for his role as dr gonzo i couldn't believe that this fat samoan lawyer was the same guy who played the slick mumbling criminal in the usual suspects 7 510 word on the street is that gained over 40 pounds for this role and i must say that his look was deliciously reprehensible plenty of cameos also pepper this kaleidoscopic moving picture in the form of ellen barkin christina ricci tobey maguire and cameron diaz along with a bunch of others other than that the soundtrack was expectedly eclectic the style was not as wild as i thought it would be and the ending was certainly not much of a barnburner but then again who really noticed this movie is about visions of bats floating through your head johnny depp looking goofy and being bald and the cornucopia of drugravaged scenes filling your own intoxicated system with ideas of anarchy rebellion and the lost american dream and for all those who plan on seeing this movie without the partnership of a mean drink or a mighty doobie i suggest you move further down the aisle buy yourself a ticket to godzilla 610 and enjoy the visual fabrications manufactured for the unstimulated mind little known facts depp and del toro snorted plenty of powdered milk instead of cocaine bill murray also portrayed a thompsonbased character in the film where the buffalo roam johnny depp turned down roles in the three musketeers speed 7 510 and legends of the fall 7 510 for smaller and quirkier roles in benny and joon 6 510 and what's eating gilbert grape ? 710 in 1988 depp told rolling stone magazine that he'd tried every drug by the age of 14 johnny hung out with some of the members of oasis while filming the uncompleted divine rapture in ireland and later played some slide guitar on the 1997 album be here now johnny was born in kentucky is a highschool dropout has nicknamed himself mr stench has been engaged to four women until now including actress winona ryder whose winona forever tattoo had to be altered to wino forever after their breakup currently plays guitar in a band called p and owns the viper room nightclub in l a\n"
     ]
    },
    {
     "name": "stderr",
     "output_type": "stream",
     "text": [
      "/Users/sunevan/anaconda/lib/python3.5/site-packages/ipykernel/__main__.py:18: FutureWarning: sort(columns=....) is deprecated, use sort_values(by=.....)\n"
     ]
    }
   ],
   "source": [
    "error_analysis(195)"
   ]
  },
  {
   "cell_type": "markdown",
   "metadata": {},
   "source": [
    "#### Analysis: This article used a few negative words like \"apparently\", \"supposed\", which sound negatively. In the orginal context, I think it is just the author's writing style to use meaningless adverb. So, probably a bigram can help solve the problem. "
   ]
  },
  {
   "cell_type": "markdown",
   "metadata": {},
   "source": [
    "## 8.1 "
   ]
  },
  {
   "cell_type": "markdown",
   "metadata": {},
   "source": [
    "#### As analyzed above, I will try remove stop words and bi-gram to improve error rate. \n",
    "## Removing Stop Words"
   ]
  },
  {
   "cell_type": "code",
   "execution_count": 773,
   "metadata": {
    "collapsed": false
   },
   "outputs": [],
   "source": [
    "from stop_words import get_stop_words\n",
    "stop_words = get_stop_words('english')"
   ]
  },
  {
   "cell_type": "code",
   "execution_count": 774,
   "metadata": {
    "collapsed": true
   },
   "outputs": [],
   "source": [
    "X_train_sparse_1 = sparse_count(X_train)\n",
    "X_test_sparse_1 = sparse_count(X_test)"
   ]
  },
  {
   "cell_type": "code",
   "execution_count": 775,
   "metadata": {
    "collapsed": false
   },
   "outputs": [],
   "source": [
    "for i in X_train_sparse_1:\n",
    "    for j in stop_words:\n",
    "        try:\n",
    "            i.pop(j, None)\n",
    "        except:\n",
    "            pass\n",
    "for i in X_test_sparse_1:\n",
    "    for j in stop_words:\n",
    "        try:\n",
    "            i.pop(j, None)\n",
    "        except:\n",
    "            pass        "
   ]
  },
  {
   "cell_type": "code",
   "execution_count": 776,
   "metadata": {
    "collapsed": false
   },
   "outputs": [],
   "source": [
    "w_list_2 = list()\n",
    "Lambda_list_2 = list()\n",
    "loss_list_2 = list()\n",
    "\n",
    "for i in np.linspace(-12,1,num = 50):\n",
    "    Lambda_list_2.append(10**i)\n",
    "    w_inuse = pegasos_2(X_train_sparse_1,y_train,10**i)\n",
    "    w_list_2.append(w_inuse)\n",
    "    loss = predict_loss(w_inuse,X_test_sparse_1,y_test)\n",
    "    loss_list_2.append(loss)"
   ]
  },
  {
   "cell_type": "code",
   "execution_count": 777,
   "metadata": {
    "collapsed": false
   },
   "outputs": [
    {
     "data": {
      "image/png": "[encoded data removed]",
      "text/plain": [
       "<matplotlib.figure.Figure at 0x10b14e7f0>"
      ]
     },
     "metadata": {},
     "output_type": "display_data"
    }
   ],
   "source": [
    "fig = plt.figure(figsize = (8,4))\n",
    "plt.plot(Lambda_list_2,loss_list_2)\n",
    "plt.xscale('log')\n",
    "plt.title(\"Searching for Lambda for the validation loss\")\n",
    "plt.show()"
   ]
  },
  {
   "cell_type": "code",
   "execution_count": 778,
   "metadata": {
    "collapsed": false
   },
   "outputs": [
    {
     "name": "stdout",
     "output_type": "stream",
     "text": [
      "Best Lambda to choose: 1.75751062485e-08\n",
      "Minimum loss is: 0.162\n"
     ]
    }
   ],
   "source": [
    "best_Lambda_2 = Lambda_list_2[np.argmin((np.array(loss_list_2)))]\n",
    "best_w_2 = w_list_2[np.argmin((np.array(loss_list_2)))]\n",
    "print (\"Best Lambda to choose:\", best_Lambda_2)\n",
    "print (\"Minimum loss is:\",min(loss_list_2))"
   ]
  },
  {
   "cell_type": "code",
   "execution_count": 779,
   "metadata": {
    "collapsed": false
   },
   "outputs": [
    {
     "name": "stdout",
     "output_type": "stream",
     "text": [
      "Minimum loss without removing stop words: 0.186\n"
     ]
    }
   ],
   "source": [
    "print (\"Minimum loss without removing stop words:\",min(loss_list_1))"
   ]
  },
  {
   "cell_type": "markdown",
   "metadata": {},
   "source": [
    "## bi-gram"
   ]
  },
  {
   "cell_type": "code",
   "execution_count": 783,
   "metadata": {
    "collapsed": false
   },
   "outputs": [],
   "source": [
    "def bigram(doc):\n",
    "    bigram = list()\n",
    "\n",
    "    for docc in doc:\n",
    "        doc_dict = dict()\n",
    "        for i in range(len(docc)):\n",
    "\n",
    "            if i < len(docc)-1:\n",
    "                key_inuse =(docc[i],docc[i+1]) \n",
    "                try:\n",
    "                    doc_dict[key_inuse] = doc_dict[key_inuse]+1\n",
    "                except:\n",
    "                    doc_dict[key_inuse] = 1 \n",
    "        bigram.append(doc_dict)\n",
    "    return (bigram)"
   ]
  },
  {
   "cell_type": "code",
   "execution_count": 784,
   "metadata": {
    "collapsed": true
   },
   "outputs": [],
   "source": [
    "X_train_bigram = bigram(X_train)\n",
    "X_test_bigram = bigram(X_test)"
   ]
  },
  {
   "cell_type": "code",
   "execution_count": 785,
   "metadata": {
    "collapsed": false
   },
   "outputs": [],
   "source": [
    "w_list_3 = list()\n",
    "Lambda_list_3 = list()\n",
    "loss_list_3 = list()\n",
    "\n",
    "for i in np.linspace(-12,1,num = 50):\n",
    "    Lambda_list_3.append(10**i)\n",
    "    w_inuse = pegasos_2(X_train_bigram,y_train,10**i)\n",
    "    w_list_3.append(w_inuse)\n",
    "    loss = predict_loss(w_inuse,X_test_bigram,y_test)\n",
    "    loss_list_3.append(loss)"
   ]
  },
  {
   "cell_type": "code",
   "execution_count": 786,
   "metadata": {
    "collapsed": false
   },
   "outputs": [
    {
     "data": {
      "image/png": "[encoded data removed]",
      "text/plain": [
       "<matplotlib.figure.Figure at 0x19170a0f0>"
      ]
     },
     "metadata": {},
     "output_type": "display_data"
    }
   ],
   "source": [
    "fig = plt.figure(figsize = (8,4))\n",
    "plt.plot(Lambda_list_3,loss_list_3)\n",
    "plt.xscale('log')\n",
    "plt.title(\"Searching for Lambda for the validation loss\")\n",
    "plt.show()"
   ]
  },
  {
   "cell_type": "code",
   "execution_count": 787,
   "metadata": {
    "collapsed": false
   },
   "outputs": [
    {
     "name": "stdout",
     "output_type": "stream",
     "text": [
      "Best Lambda to choose: 4.29193426013e-06\n",
      "Minimum loss is: 0.198\n"
     ]
    }
   ],
   "source": [
    "best_Lambda_3 = Lambda_list_3[np.argmin((np.array(loss_list_3)))]\n",
    "best_w_3 = w_list_3[np.argmin((np.array(loss_list_3)))]\n",
    "print (\"Best Lambda to choose:\", best_Lambda_3)\n",
    "print (\"Minimum loss is:\",min(loss_list_3))"
   ]
  },
  {
   "cell_type": "markdown",
   "metadata": {},
   "source": [
    "#### So, after removing the stop words, the best error rate is 0.162. The original standard error is 0.01740. The new standard error is 0.0164.  It seems that removing stop words doesn't signficantly improve the rate. And, when using bi-gram instead of single word, the error rate is even higher. "
   ]
  },
  {
   "cell_type": "code",
   "execution_count": null,
   "metadata": {
    "collapsed": true
   },
   "outputs": [],
   "source": []
  }
 ],
 "metadata": {
  "anaconda-cloud": {},
  "kernelspec": {
   "display_name": "Python 3",
   "language": "python",
   "name": "python3"
  },
  "language_info": {
   "codemirror_mode": {
    "name": "ipython",
    "version": 3
   },
   "file_extension": ".py",
   "mimetype": "text/x-python",
   "name": "python",
   "nbconvert_exporter": "python",
   "pygments_lexer": "ipython3",
   "version": "3.6.0"
  }
 },
 "nbformat": 4,
 "nbformat_minor": 0
}
